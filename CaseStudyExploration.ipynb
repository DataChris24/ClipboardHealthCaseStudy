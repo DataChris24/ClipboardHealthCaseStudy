{
 "cells": [
  {
   "cell_type": "markdown",
   "metadata": {},
   "source": [
    "## Exploratory Data Analysis"
   ]
  },
  {
   "cell_type": "code",
   "execution_count": null,
   "metadata": {},
   "outputs": [],
   "source": [
    "import pandas as pd\n",
    "import numpy as np\n",
    "import seaborn as sns\n",
    "import matplotlib.pyplot as plt \n",
    "from sklearn.preprocessing import StandardScaler\n",
    "import plotly.express as px\n",
    "plt.style.use('ggplot')\n",
    "pd.set_option('display.max_columns', 200)"
   ]
  },
  {
   "cell_type": "code",
   "execution_count": null,
   "metadata": {},
   "outputs": [],
   "source": [
    "pbj_data = pd.read_csv('PBJ_Daily_Nurse_Staffing_Q2_2024.csv', low_memory= False, encoding = 'latin-1')\n",
    "# pbj_cols = pbj_data.columns.tolist()\n",
    "# pbj_cols = [x.lower() for x in pbj_cols]\n",
    "# pbj_data.columns = pbj_cols\n",
    "pbj_data.columns = [x.lower() for x in pbj_data.columns.tolist()]\n",
    "pbj_data.head(10)"
   ]
  },
  {
   "cell_type": "code",
   "execution_count": null,
   "metadata": {},
   "outputs": [],
   "source": [
    "pbj_ratios = pbj_data.copy()\n",
    "pbj_ratios = pbj_ratios.groupby('provnum').agg(mdscensus_mean = ('mdscensus','mean'),\n",
    "                                               mdscensus_sum = ('mdscensus','sum'),\n",
    "                                               hrs_rndon = ('hrs_rndon','sum'),\n",
    "                                               hrs_rndon_emp = ('hrs_rndon_emp','sum'),\n",
    "                                               hrs_rdon_ctr = ('hrs_rndon_ctr','sum'),\n",
    "                                               hrs_rnadmin = ('hrs_rnadmin','sum'),\n",
    "                                               hrs_rnadmin_emp = ('hrs_rnadmin_emp','sum'),\n",
    "                                               hrs_rnadmin_ctr = ('hrs_rnadmin_ctr','sum'),\n",
    "                                               hrs_rn = ('hrs_rn','sum'),\n",
    "                                               hrs_rn_emp = ('hrs_rn_emp','sum'),\n",
    "                                               hrs_rn_ctr = ('hrs_rn_ctr','sum'),\n",
    "                                               hrs_lpnadmin = ('hrs_lpnadmin','sum'),\n",
    "                                               hrs_lpnadmin_emp = ('hrs_lpnadmin_emp','sum'),\n",
    "                                               hrs_lpnadmin_ctr = ('hrs_lpnadmin_ctr','sum'),\n",
    "                                               hrs_lpn = ('hrs_lpn','sum'),\n",
    "                                               hrs_lpn_emp = ('hrs_lpn_emp','sum'),\n",
    "                                               hrs_lpn_ctr = ('hrs_lpn_ctr','sum'),\n",
    "                                               hrs_cna = ('hrs_cna','sum'),\n",
    "                                               hrs_cna_emp = ('hrs_cna_emp','sum'),\n",
    "                                               hrs_cna_ctr = ('hrs_cna_ctr','sum'),\n",
    "                                               hrs_natrn = ('hrs_natrn','sum'),\n",
    "                                               hrs_natrn_emp = ('hrs_natrn_emp','sum'),\n",
    "                                               hrs_natrn_ctr = ('hrs_natrn_ctr','sum'),\n",
    "                                               hrs_medaide = ('hrs_medaide','sum'),\n",
    "                                               hrs_medaide_emp = ('hrs_medaide_emp','sum'),\n",
    "                                               hrs_medaide_ctr = ('hrs_medaide_ctr','sum'))\n",
    "pbj_ratios.head()"
   ]
  },
  {
   "cell_type": "code",
   "execution_count": null,
   "metadata": {},
   "outputs": [],
   "source": [
    "pbj_ratios.insert(0, 'provnum', pbj_ratios.index)\n",
    "pbj_ratios.reset_index(inplace = True, drop=True)\n",
    "pbj_ratios.head()"
   ]
  },
  {
   "cell_type": "code",
   "execution_count": null,
   "metadata": {},
   "outputs": [],
   "source": [
    "pbj_ratio_cols = pbj_ratios.columns.tolist()\n",
    "ratio_indx = [x for x in range(3, len(pbj_ratio_cols), 3)]\n",
    "hrs_ttl_cols = [pbj_ratio_cols[i] for i in ratio_indx]\n",
    "hrs_emp_cols = [x for x in pbj_ratios.columns.tolist() if x.find('_emp') >= 0]\n",
    "hrs_ctr_cols = [x for x in pbj_ratios.columns.tolist() if x.find('_ctr') >= 0]\n",
    "pbj_ratios['hrs_ttl'] = pbj_ratios[hrs_ttl_cols].sum(axis = 1)\n",
    "pbj_ratios['hrs_ttl_emp'] = pbj_ratios[hrs_emp_cols].sum(axis = 1)\n",
    "pbj_ratios['hrs_ttl_ctr'] = pbj_ratios[hrs_ctr_cols].sum(axis = 1)\n",
    "pbj_ratios.head()"
   ]
  },
  {
   "cell_type": "code",
   "execution_count": null,
   "metadata": {},
   "outputs": [],
   "source": [
    "# # pbj_ratio_sub = pbj_ratios.copy()\n",
    "# pbj_ratios.fillna(0, inplace = True)\n",
    "# pbj_ratios = pbj_ratios.loc[pbj_ratios.hrs_ttl_emp != 0].copy()\n",
    "# pbj_ratios = pbj_ratios.loc[pbj_ratios.hrs_ttl_ctr != 0].copy()\n",
    "# pbj_ratios.head()"
   ]
  },
  {
   "cell_type": "code",
   "execution_count": null,
   "metadata": {},
   "outputs": [],
   "source": [
    "pbj_ratio_cols = pbj_ratios.columns.tolist()\n",
    "ratio_indx = [x for x in range(3, len(pbj_ratio_cols), 3)]\n",
    "for i in range(0,len(ratio_indx)):\n",
    "    if ratio_indx[i] == ratio_indx[-1]:\n",
    "        temp_str1 = pbj_ratio_cols[ratio_indx[i]] + '_ratio'\n",
    "        temp_str2 = pbj_ratio_cols[ratio_indx[i]] + '_census_mean'\n",
    "        val1 = pbj_ratios[pbj_ratio_cols[ratio_indx[i] + 2]] / pbj_ratios[pbj_ratio_cols[ratio_indx[i] + 1]]\n",
    "        val2 = pbj_ratios[pbj_ratio_cols[ratio_indx[i]]] / pbj_ratios['mdscensus_sum']\n",
    "        pbj_ratios[temp_str1] = val1 \n",
    "        pbj_ratios[temp_str2] = val2\n",
    "    else:        \n",
    "        temp_str1 = pbj_ratio_cols[ratio_indx[i]] + '_ratio'\n",
    "        temp_str2 = pbj_ratio_cols[ratio_indx[i]] + '_census_mean'\n",
    "        insert_1 = i * 2 + ratio_indx[i] + 3\n",
    "        insert_2 = i * 2 + ratio_indx[i] + 4\n",
    "        val1 = pbj_ratios[pbj_ratio_cols[ratio_indx[i] + 2]] / pbj_ratios[pbj_ratio_cols[ratio_indx[i] + 1]]\n",
    "        val2 = pbj_ratios[pbj_ratio_cols[ratio_indx[i]]] / pbj_ratios['mdscensus_sum']\n",
    "        pbj_ratios.insert(insert_1, temp_str1, val1)\n",
    "        pbj_ratios.insert(insert_2, temp_str2, val2)\n",
    "\n",
    "pbj_ratios.head()"
   ]
  },
  {
   "cell_type": "code",
   "execution_count": null,
   "metadata": {},
   "outputs": [],
   "source": [
    "# hrs_ttl_cols = [pbj_ratio_cols[i] for i in ratio_indx]\n",
    "# drop_cols = hrs_emp_cols + hrs_ctr_cols + hrs_ttl_cols + ['mdscensus_sum'] # , 'hrs_ttl_emp', 'hrs_ttl_ctr']\n",
    "# pbj_ratios.drop(drop_cols, axis = 1, inplace = True)\n",
    "pbj_ratios.replace([np.inf, -np.inf], pd.NA, inplace = True)\n",
    "pbj_ratios.fillna(0.0, inplace = True)\n",
    "pbj_ratios.head()"
   ]
  },
  {
   "cell_type": "code",
   "execution_count": null,
   "metadata": {},
   "outputs": [],
   "source": [
    "pbj_hrs_ttls = pbj_ratios[['provnum', 'mdscensus_sum', 'hrs_ttl', 'hrs_ttl_emp', 'hrs_ttl_ctr']].copy()\n",
    "pbj_hrs_ttls.head()"
   ]
  },
  {
   "cell_type": "code",
   "execution_count": null,
   "metadata": {},
   "outputs": [],
   "source": [
    "pbj_data.describe()"
   ]
  },
  {
   "cell_type": "code",
   "execution_count": null,
   "metadata": {},
   "outputs": [],
   "source": [
    "prov_city = pd.pivot_table(pbj_data, index = ['state', 'county_name', 'city'], values = ['provnum'], aggfunc = 'nunique')\n",
    "prov_city.head()"
   ]
  },
  {
   "cell_type": "code",
   "execution_count": null,
   "metadata": {},
   "outputs": [],
   "source": [
    "prov_county = pd.pivot_table(pbj_data, index = ['state', 'county_name'], values = ['provnum'], aggfunc = 'nunique')\n",
    "prov_county.head()"
   ]
  },
  {
   "cell_type": "code",
   "execution_count": null,
   "metadata": {},
   "outputs": [],
   "source": [
    "prov_state = pd.pivot_table(pbj_data, index = 'state', values = ['provnum'], aggfunc = 'nunique')\n",
    "prov_state.head()"
   ]
  },
  {
   "cell_type": "code",
   "execution_count": null,
   "metadata": {},
   "outputs": [],
   "source": [
    "prov_state.describe()"
   ]
  },
  {
   "cell_type": "code",
   "execution_count": null,
   "metadata": {},
   "outputs": [],
   "source": [
    "patient_qual = pd.read_csv('NH_QualityMsr_MDS_Oct2024.csv', low_memory = False, encoding = 'latin-1')\n",
    "patient_qual.head(10)"
   ]
  },
  {
   "cell_type": "code",
   "execution_count": null,
   "metadata": {},
   "outputs": [],
   "source": [
    "star_ratings = patient_qual[patient_qual['Used in Quality Measure Five Star Rating'] == 'Y'].copy()"
   ]
  },
  {
   "cell_type": "code",
   "execution_count": null,
   "metadata": {},
   "outputs": [],
   "source": [
    "patient_qual_ttl = patient_qual.groupby('CMS Certification Number (CCN)').agg({})"
   ]
  },
  {
   "cell_type": "code",
   "execution_count": null,
   "metadata": {},
   "outputs": [],
   "source": [
    "num_qual_codes = len(patient_qual['Measure Code'].unique().tolist())\n",
    "num_qual_codes"
   ]
  },
  {
   "cell_type": "code",
   "execution_count": null,
   "metadata": {},
   "outputs": [],
   "source": [
    "measure_desc_list = patient_qual['Measure Description'].unique().tolist()\n",
    "measure_desc_list"
   ]
  },
  {
   "cell_type": "code",
   "execution_count": null,
   "metadata": {},
   "outputs": [],
   "source": [
    "state_avgs = pd.read_csv('NH_StateUSAverages_Oct2024.csv', low_memory = False, encoding = 'latin-1')\n",
    "state_avgs.head(10)"
   ]
  },
  {
   "cell_type": "code",
   "execution_count": null,
   "metadata": {},
   "outputs": [],
   "source": [
    "facility_qual_rates = pd.read_csv('Skilled_Nursing_Facility_Quality_Reporting_Program_Provider_Data_Oct2024.csv', low_memory = False, encoding = 'latin-1')\n",
    "facility_qual_rates.head(10)"
   ]
  },
  {
   "cell_type": "markdown",
   "metadata": {},
   "source": [
    "# Provider Information"
   ]
  },
  {
   "cell_type": "code",
   "execution_count": null,
   "metadata": {},
   "outputs": [],
   "source": [
    "provider_info = pd.read_csv('NH_ProviderInfo_Oct2024.csv', low_memory = False, encoding = 'latin-1')\n",
    "provider_info.head(10)"
   ]
  },
  {
   "cell_type": "code",
   "execution_count": null,
   "metadata": {},
   "outputs": [],
   "source": [
    "test_prov = provider_info[['CMS Certification Number (CCN)', 'State', 'County/Parish', 'City/Town', 'Provider SSA County Code']].copy()"
   ]
  },
  {
   "cell_type": "code",
   "execution_count": null,
   "metadata": {},
   "outputs": [],
   "source": [
    "owner_rating = provider_info.groupby('Ownership Type').agg({'Overall Rating':'mean'})\n",
    "owner_rating"
   ]
  },
  {
   "cell_type": "code",
   "execution_count": null,
   "metadata": {},
   "outputs": [],
   "source": [
    "owner_staff_score = provider_info.groupby('Ownership Type').agg({'Staffing Rating':'mean'})\n",
    "owner_staff_score"
   ]
  },
  {
   "cell_type": "code",
   "execution_count": null,
   "metadata": {},
   "outputs": [],
   "source": [
    "sns.barplot(provider_info, x = 'Ownership Type', y = 'Overall Rating')\n",
    "plt.show()"
   ]
  },
  {
   "cell_type": "code",
   "execution_count": null,
   "metadata": {},
   "outputs": [],
   "source": [
    "sub_ratios = pbj_ratios[['provnum', 'hrs_ttl_ratio', 'hrs_ttl_census_mean']].copy()\n",
    "sub_info = provider_info[['CMS Certification Number (CCN)', 'Ownership Type', 'Overall Rating', 'Staffing Rating']].copy()\n",
    "sub_info.columns = ['provnum', 'Ownership Type', 'Overall Rating', 'Staffing Rating']\n",
    "sub_scores = pd.merge(sub_ratios, sub_info, how = 'left', on = 'provnum')\n",
    "sub_scores = sub_scores[['provnum', 'Ownership Type', 'Overall Rating', 'Staffing Rating', 'hrs_ttl_census_mean', 'hrs_ttl_ratio']].copy()\n",
    "sub_scores.sort_values(['Ownership Type', 'Overall Rating', 'Staffing Rating', 'hrs_ttl_census_mean', 'hrs_ttl_ratio'],\n",
    "                    #    ascending = [False, False, False, False, False], \n",
    "                       inplace = True)\n",
    "sub_scores.head(20)"
   ]
  },
  {
   "cell_type": "code",
   "execution_count": null,
   "metadata": {},
   "outputs": [],
   "source": [
    "prov_score_cols = ['CMS Certification Number (CCN)', 'Overall Rating', 'Staffing Rating'] + provider_info.columns.tolist()[-13:-6]\n",
    "prov_score = provider_info[prov_score_cols].copy()\n",
    "prov_score.columns = ['provnum'] + prov_score_cols[1:]\n",
    "prov_score.head()"
   ]
  },
  {
   "cell_type": "code",
   "execution_count": null,
   "metadata": {},
   "outputs": [],
   "source": [
    "pbj_ratios_score = pd.merge(pbj_ratios, prov_score, how = 'left', on = 'provnum')\n",
    "pbj_ratios_score.head(10)"
   ]
  },
  {
   "cell_type": "code",
   "execution_count": null,
   "metadata": {},
   "outputs": [],
   "source": [
    "pbj_sc_cols = pbj_ratios_score.columns.tolist()\n",
    "pbj_ratios_score.fillna(0, inplace = True)\n",
    "for i in range(1,len(pbj_sc_cols)):\n",
    "    pbj_ratios_score[pbj_sc_cols[i]] = pbj_ratios_score[pbj_sc_cols[i]].astype('float')\n",
    "pbj_ratios_score.drop('provnum', axis = 1, inplace = True)\n",
    "pbj_ratios_score.head()"
   ]
  },
  {
   "cell_type": "code",
   "execution_count": null,
   "metadata": {},
   "outputs": [],
   "source": [
    "pbj_rs_corr = pbj_ratios_score.corr()\n",
    "pbj_rs_corr"
   ]
  },
  {
   "cell_type": "code",
   "execution_count": null,
   "metadata": {},
   "outputs": [],
   "source": [
    "fig, ax = plt.subplots(figsize = (100, 100))\n",
    "sns.heatmap(pbj_rs_corr, annot = True, cmap = 'coolwarm')\n",
    "plt.show()"
   ]
  },
  {
   "cell_type": "code",
   "execution_count": null,
   "metadata": {},
   "outputs": [],
   "source": [
    "scaler = StandardScaler()\n",
    "ratios_scaled = pd.DataFrame(scaler.fit_transform(pbj_ratios_score), columns=pbj_ratios_score.columns)\n",
    "ratios_scaled.head(10)"
   ]
  },
  {
   "cell_type": "code",
   "execution_count": null,
   "metadata": {},
   "outputs": [],
   "source": [
    "ratios_corr = ratios_scaled.corr()\n",
    "ratios_corr"
   ]
  },
  {
   "cell_type": "code",
   "execution_count": null,
   "metadata": {},
   "outputs": [],
   "source": [
    "fig, ax = plt.subplots(figsize = (100, 100))\n",
    "sns.heatmap(ratios_corr, annot = True, cmap = 'coolwarm')\n",
    "plt.show()"
   ]
  },
  {
   "cell_type": "code",
   "execution_count": null,
   "metadata": {},
   "outputs": [],
   "source": [
    "prov_info_cols = provider_info.columns.tolist()\n",
    "prov_examp = provider_info.iloc[1].values.tolist()\n",
    "prov_exampl_w_cols = []\n",
    "for i in range(len(prov_info_cols)):\n",
    "    temp = (i, prov_info_cols[i], prov_examp[i])\n",
    "    prov_exampl_w_cols.append(temp)\n",
    "prov_exampl_w_cols"
   ]
  },
  {
   "cell_type": "code",
   "execution_count": null,
   "metadata": {},
   "outputs": [],
   "source": [
    "ownership_type_list = provider_info['Ownership Type'].unique().tolist()\n",
    "provider_info.insert(10, 'Ownership Type Code', pd.NA)\n",
    "provider_info['Ownership Type Code'] = provider_info[['Ownership Type']].apply(lambda x: ownership_type_list.index(str(x['Ownership Type'])), axis = 1)"
   ]
  },
  {
   "cell_type": "code",
   "execution_count": null,
   "metadata": {},
   "outputs": [],
   "source": [
    "provider_type_list = provider_info['Provider Type'].unique().tolist()\n",
    "provider_info.insert(15, 'Provider Type Code', pd.NA)\n",
    "provider_info['Provider Type Code'] = provider_info[['Provider Type']].apply(lambda x: provider_type_list.index(str(x['Provider Type'])), axis = 1)"
   ]
  },
  {
   "cell_type": "code",
   "execution_count": null,
   "metadata": {},
   "outputs": [],
   "source": [
    "def special_focus_status(sff):\n",
    "    match sff:\n",
    "        case 'SFF Candidate':\n",
    "            return 1\n",
    "        case 'SFF':\n",
    "            return 2\n",
    "        case _:\n",
    "            return 0\n",
    "\n",
    "provider_info.insert(23, 'SFF Code', pd.NA)\n",
    "provider_info['SFF Code'] = provider_info[['Special Focus Status']].apply(lambda x: special_focus_status(x['Special Focus Status']), axis = 1)"
   ]
  },
  {
   "cell_type": "code",
   "execution_count": null,
   "metadata": {},
   "outputs": [],
   "source": [
    "def family_council(famCon):\n",
    "    match famCon:\n",
    "        case 'Resident':\n",
    "            return 1\n",
    "        case 'Family':\n",
    "            return 2\n",
    "        case 'Both':\n",
    "            return 3\n",
    "        case _:\n",
    "            return 0\n",
    "        \n",
    "provider_info.insert(28, 'With Council Code', pd.NA)\n",
    "provider_info['With Council Code'] = provider_info[['With a Resident and Family Council']].apply(lambda x: family_council(x['With a Resident and Family Council']), axis = 1)"
   ]
  },
  {
   "cell_type": "code",
   "execution_count": null,
   "metadata": {},
   "outputs": [],
   "source": [
    "provider_info.replace('Y', 1, inplace = True)\n",
    "provider_info.replace('N', 0, inplace = True)\n",
    "provider_info.replace('Yes', 1, inplace = True)\n",
    "provider_info.replace('No', 0, inplace = True)"
   ]
  },
  {
   "cell_type": "code",
   "execution_count": null,
   "metadata": {},
   "outputs": [],
   "source": [
    "col_nums = [x for x in range(10,14)] + [v for v in range(15,17)] + [21] + [y for y in range(23,27)] + [z for z in range(28,70)] + [u for u in range(71,78)] + [w for w in range(94,102)]\n",
    "col_names = [prov_info_cols[i] for i in col_nums]\n",
    "col_names = [x for x in col_names if x.find('Footnote') < 0]\n",
    "sub_prov_info = provider_info[col_names].copy()\n",
    "sub_prov_info.head()"
   ]
  },
  {
   "cell_type": "code",
   "execution_count": null,
   "metadata": {},
   "outputs": [],
   "source": [
    "import numpy as np\n",
    "sub_prov_info.replace('Partial', 2, inplace = True)\n",
    "sub_prov_info.astype(np.float64())"
   ]
  },
  {
   "cell_type": "code",
   "execution_count": null,
   "metadata": {},
   "outputs": [],
   "source": [
    "scaler = StandardScaler()\n",
    "sub_scaled = pd.DataFrame(scaler.fit_transform(sub_prov_info), columns=sub_prov_info.columns)\n",
    "sub_scaled.head(10)"
   ]
  },
  {
   "cell_type": "code",
   "execution_count": null,
   "metadata": {},
   "outputs": [],
   "source": [
    "score_corr = sub_scaled.corr()\n",
    "score_corr"
   ]
  },
  {
   "cell_type": "code",
   "execution_count": null,
   "metadata": {},
   "outputs": [],
   "source": [
    "flatten_corr = score_corr.stack().reset_index()\n",
    "flatten_corr.columns = ['Variable 1', 'Variable 2', 'Correlation Score']\n",
    "flatten_corr = flatten_corr[flatten_corr['Variable 1'] != flatten_corr['Variable 2']]\n",
    "flatten_corr.sort_values(by = 'Correlation Score', ascending = False, inplace = True)\n"
   ]
  },
  {
   "cell_type": "code",
   "execution_count": null,
   "metadata": {},
   "outputs": [],
   "source": [
    "import seaborn as sns\n",
    "import matplotlib.pyplot as plt\n",
    "\n",
    "data = score_corr.copy()\n",
    "data.columns = [x for x in range(len(data.columns))]\n",
    "sns.heatmap(data, annot = True, cmap = 'coolwarm')\n",
    "plt.show()"
   ]
  },
  {
   "cell_type": "code",
   "execution_count": null,
   "metadata": {},
   "outputs": [],
   "source": [
    "corr_nums = sub_scaled.copy()\n",
    "corr_nums.columns = [x for x in range(len(corr_nums.columns))]\n",
    "corr_nums = corr_nums.corr()"
   ]
  },
  {
   "cell_type": "code",
   "execution_count": null,
   "metadata": {},
   "outputs": [],
   "source": [
    "fig, ax = plt.subplots(figsize = (200, 200))\n",
    "sns.heatmap(corr_nums, annot = True, cmap = 'coolwarm')\n",
    "plt.show()"
   ]
  },
  {
   "cell_type": "code",
   "execution_count": null,
   "metadata": {},
   "outputs": [],
   "source": [
    "flat_corr = flatten_corr[flatten_corr['Correlation Score'] < 0.999999].copy()\n",
    "\n",
    "def sort_the_values(str1, str2):\n",
    "    temp = [str1, str2]\n",
    "    temp.sort()\n",
    "    return temp\n",
    "\n",
    "flat_corr['Sort Column'] = flat_corr[['Variable 1', 'Variable 2']].apply(lambda x: '|'.join(sort_the_values(x['Variable 1'], x['Variable 2'])), axis = 1)\n",
    "flat_corr.drop_duplicates('Sort Column', inplace = True)\n",
    "flat_corr.drop('Sort Column', axis = 1, inplace = True)\n",
    "# flat_corr.head(50)"
   ]
  },
  {
   "cell_type": "code",
   "execution_count": null,
   "metadata": {},
   "outputs": [],
   "source": [
    "sub_flat_corr = flat_corr.loc[(flat_corr['Variable 1'].str.lower().str.find('hours') > 0) & (flat_corr['Variable 2'].str.lower().str.find('hours') < 0)]\n",
    "sub_flat_corr.head(20)"
   ]
  },
  {
   "cell_type": "code",
   "execution_count": null,
   "metadata": {},
   "outputs": [],
   "source": [
    "sub_flat_corr.tail(20)"
   ]
  },
  {
   "cell_type": "code",
   "execution_count": null,
   "metadata": {},
   "outputs": [],
   "source": [
    "cut_points = pd.read_csv('NH_HlthInspecCutpointsState_Oct2024.csv', low_memory = False, encoding = 'latin-1')\n",
    "cut_points"
   ]
  },
  {
   "cell_type": "code",
   "execution_count": null,
   "metadata": {},
   "outputs": [],
   "source": [
    "pbj_hrs_ttls.head()"
   ]
  },
  {
   "cell_type": "code",
   "execution_count": null,
   "metadata": {},
   "outputs": [],
   "source": [
    "provider_sub = provider_info[['CMS Certification Number (CCN)', 'Ownership Type', 'State', 'County/Parish', 'Staffing Rating', 'Overall Rating']].copy()\n",
    "provider_sub.rename({'CMS Certification Number (CCN)':'provnum'}, axis = 1, inplace = True)\n",
    "provider_sub.head()"
   ]
  },
  {
   "cell_type": "markdown",
   "metadata": {},
   "source": [
    "# Provider Aggregate"
   ]
  },
  {
   "cell_type": "code",
   "execution_count": null,
   "metadata": {},
   "outputs": [],
   "source": [
    "provider_agg = pd.merge(provider_sub, pbj_hrs_ttls, how = 'left', on = 'provnum')\n",
    "provider_agg[['Type', 'SubType']] = provider_agg['Ownership Type'].str.split(' - ', expand = True)\n",
    "provider_agg.drop('Ownership Type', axis = 1, inplace = True)\n",
    "provider_agg.rename({'Type':'Ownership Type', 'SubType':'Ownership SubType'}, inplace = True, axis = 1)\n",
    "provider_agg.head()"
   ]
  },
  {
   "cell_type": "markdown",
   "metadata": {},
   "source": [
    "## Ownership Type Averages"
   ]
  },
  {
   "cell_type": "code",
   "execution_count": null,
   "metadata": {},
   "outputs": [],
   "source": [
    "owner_type_avgs = provider_agg.groupby('Ownership Type').agg(staff_rating = ('Staffing Rating', 'mean'),\n",
    "                                                             overall_rating = ('Overall Rating', 'mean'),\n",
    "                                                             census_sum = ('mdscensus_sum', 'sum'),\n",
    "                                                             hrs_ttl = ('hrs_ttl', 'sum'),\n",
    "                                                             hrs_ttl_emp = ('hrs_ttl_emp', 'sum'),\n",
    "                                                             hrs_ttl_ctr = ('hrs_ttl_ctr', 'sum'))\n",
    "owner_type_avgs.insert(0, 'Ownership Type', owner_type_avgs.index)\n",
    "owner_type_avgs.reset_index(drop = True, inplace = True)\n",
    "owner_type_avgs"
   ]
  },
  {
   "cell_type": "code",
   "execution_count": null,
   "metadata": {},
   "outputs": [],
   "source": [
    "owner_type_avgs['hrs_per_resident'] = owner_type_avgs.hrs_ttl / owner_type_avgs.census_sum\n",
    "owner_type_avgs['ctr_emp_ratio'] = owner_type_avgs.hrs_ttl_ctr / owner_type_avgs.hrs_ttl_emp\n",
    "owner_type_avgs"
   ]
  },
  {
   "cell_type": "code",
   "execution_count": null,
   "metadata": {},
   "outputs": [],
   "source": [
    "import plotly.graph_objects as go\n",
    "for_profit_df = owner_type_avgs[owner_type_avgs['Ownership Type'] == 'For profit']\n",
    "non_profit_df = owner_type_avgs[owner_type_avgs['Ownership Type'] == 'Non profit']\n",
    "government_df = owner_type_avgs[owner_type_avgs['Ownership Type'] == 'Government']\n",
    "staff_score_vs_hrs_per_resident = go.Figure(\n",
    "        [go.Scatter(x = for_profit_df['hrs_per_resident'],\n",
    "                    y = for_profit_df['staff_rating'],\n",
    "                    mode = 'markers',\n",
    "                    name = 'For Profit',\n",
    "                    marker = dict(size = for_profit_df['overall_rating'].values[0] * 10),\n",
    "                    hovertemplate = '<b>For Profit</b><br>Avg Hrs per Resident: %{x:.2f}<br>Overall Rating: %{y:.2f}'\n",
    "                    ),\n",
    "        go.Scatter(x = non_profit_df['hrs_per_resident'],\n",
    "                    y = non_profit_df['staff_rating'],\n",
    "                    mode = 'markers',\n",
    "                    name = 'Non Profit',\n",
    "                    marker = dict(size = non_profit_df['overall_rating'].values[0] * 10),\n",
    "                    hovertemplate = '<b>Non Profit</b><br>Avg Hrs per Resident: %{x:.2f}<br>Overall Rating: %{y:.2f}'\n",
    "                    ),\n",
    "        go.Scatter(x = government_df['hrs_per_resident'],\n",
    "                    y = government_df['staff_rating'],\n",
    "                    mode = 'markers',\n",
    "                    name = 'Government',\n",
    "                    marker = dict(size = government_df['overall_rating'].values[0] * 10),\n",
    "                    hovertemplate = '<b>Government</b><br>Avg Hrs per Resident: %{x:.2f}<br>Overall Rating: %{y:.2f}'\n",
    "                    )\n",
    "        ],\n",
    "    layout = dict(\n",
    "        title = dict(\n",
    "            text = 'Staff Rating vs Average Total Daily Hours per Resident',\n",
    "            subtitle = dict(text = 'with Average Overall Rating as size')\n",
    "        ),\n",
    "        xaxis_title = 'Average Total Daily Hours per Resident',\n",
    "        yaxis_title = 'Average Staff Rating'\n",
    "    )\n",
    ")\n",
    "staff_score_vs_hrs_per_resident.update_layout(title = {'x': 0.5, 'xanchor': 'center'})\n",
    "staff_score_vs_hrs_per_resident.show()"
   ]
  },
  {
   "cell_type": "code",
   "execution_count": null,
   "metadata": {},
   "outputs": [],
   "source": [
    "ctr_ratio_vs_hrs_per_resident = go.Figure(\n",
    "        [go.Scatter(x = for_profit_df['hrs_per_resident'],\n",
    "                    y = for_profit_df['overall_rating'],\n",
    "                    mode = 'markers',\n",
    "                    name = 'For Profit',\n",
    "                    marker = dict(size = for_profit_df['ctr_emp_ratio'].values[0] * 500),\n",
    "                    hovertemplate = '<b>Government</b><br>Avg Hrs per Resident: %{x:.2f}' +\n",
    "                    '<br>Contractor to Employee Hours Ratio: {0:.4f}'.format(for_profit_df['ctr_emp_ratio'].values[0]) +\n",
    "                    '<br>Overall Rating: %{y:.2f}'\n",
    "                    ),\n",
    "        go.Scatter(x = non_profit_df['hrs_per_resident'],\n",
    "                    y = non_profit_df['overall_rating'],\n",
    "                    mode = 'markers',\n",
    "                    name = 'Non Profit',\n",
    "                    marker = dict(size = non_profit_df['ctr_emp_ratio'].values[0] * 500),\n",
    "                    hovertemplate = '<b>Government</b><br>Avg Hrs per Resident: %{x:.2f}' +\n",
    "                    '<br>Contractor to Employee Hours Ratio: {0:.4f}'.format(non_profit_df['ctr_emp_ratio'].values[0]) +\n",
    "                    '<br>Overall Rating: %{y:.2f}'\n",
    "                    ),\n",
    "        go.Scatter(x = government_df['hrs_per_resident'],\n",
    "                    y = government_df['overall_rating'],\n",
    "                    mode = 'markers',\n",
    "                    name = 'Government',\n",
    "                    marker = dict(size = government_df['ctr_emp_ratio'].values[0] * 500),\n",
    "                    hovertemplate = '<b>Government</b><br>Avg Hrs per Resident: %{x:.2f}' +\n",
    "                    '<br>Contractor to Employee Hours Ratio: {0:.4f}'.format(government_df['ctr_emp_ratio'].values[0]) +\n",
    "                    '<br>Overall Rating: %{y:.2f}'\n",
    "                    )\n",
    "        ],\n",
    "    layout = dict(\n",
    "        title = dict(\n",
    "            text = 'Staff Rating vs Average Total Daily Hours per Resident',\n",
    "            subtitle = dict(text = 'with Average Overall Rating as size')\n",
    "        ),\n",
    "        xaxis_title = 'Average Total Daily Hours per Resident',\n",
    "        yaxis_title = 'Contractor to Employee Hours Ratio'\n",
    "    )\n",
    ")\n",
    "ctr_ratio_vs_hrs_per_resident.update_layout(title = {'x': 0.5, 'xanchor': 'center'})\n",
    "ctr_ratio_vs_hrs_per_resident.show()"
   ]
  },
  {
   "cell_type": "markdown",
   "metadata": {},
   "source": [
    "## State Averages"
   ]
  },
  {
   "cell_type": "code",
   "execution_count": null,
   "metadata": {},
   "outputs": [],
   "source": [
    "state_avgs = provider_agg.groupby('State').agg(staff_rating = ('Staffing Rating', 'mean'),\n",
    "                                               overall_rating = ('Overall Rating', 'mean'),\n",
    "                                               census_sum = ('mdscensus_sum', 'sum'),\n",
    "                                               hrs_ttl = ('hrs_ttl', 'sum'),\n",
    "                                               hrs_ttl_emp = ('hrs_ttl_emp', 'sum'),\n",
    "                                               hrs_ttl_ctr = ('hrs_ttl_ctr', 'sum'))\n",
    "state_avgs.insert(0, 'State', state_avgs.index)\n",
    "state_avgs.reset_index(drop = True, inplace = True)\n",
    "state_avgs.dropna(inplace = True)\n",
    "state_avgs = state_avgs[state_avgs['State'] != 'PR'].copy()\n",
    "state_avgs['hrs_per_resident'] = state_avgs.hrs_ttl / state_avgs.census_sum\n",
    "state_avgs['ctr_emp_ratio'] = state_avgs.hrs_ttl_ctr / state_avgs.hrs_ttl_emp\n",
    "# for col in state_avgs.columns:\n",
    "#     state_avgs[col] = state_avgs[col].astype('str')\n",
    "state_avgs['text'] = state_avgs[['State', 'hrs_per_resident', 'overall_rating', 'staff_rating', 'ctr_emp_ratio']].apply(lambda x: \\\n",
    "    (x['State'] + '<br>' +\n",
    "    'Avg Total Daily Hours per Resident: {:.2f}'.format(x['hrs_per_resident']) + '<br>' +\n",
    "    'Average Overall Rating: {:.2f}'.format(x['overall_rating']) + '<br>' +\n",
    "    'Average Staff Rating: {:.2f}'.format(x['staff_rating']) + '<br>' +\n",
    "    'Contractor to Employee Hour Ratio: {:.4f}'.format(x['ctr_emp_ratio'])), axis = 1)\n",
    "state_avgs"
   ]
  },
  {
   "cell_type": "code",
   "execution_count": null,
   "metadata": {},
   "outputs": [],
   "source": [
    "us_by_avg_hrs_resd = go.Figure(\n",
    "    go.Choropleth(\n",
    "        locations = state_avgs['State'],\n",
    "        z = state_avgs['hrs_per_resident'],\n",
    "        locationmode = 'USA-states',\n",
    "        colorscale = 'Viridis',\n",
    "        colorbar_title = 'Average Total<br>Daily Hours<br>per Resident'\n",
    "    )\n",
    ")\n",
    "us_by_avg_hrs_resd.update_layout(\n",
    "    title_text = 'Average Total Daily Hours per Resident by State',\n",
    "    geo = {\n",
    "        'scope':'usa',\n",
    "        'projection': go.layout.geo.Projection(type = 'albers usa'),\n",
    "        'showlakes': True,\n",
    "        'lakecolor':'rgb(255, 255, 255)'\n",
    "    }\n",
    ")\n",
    "us_by_avg_hrs_resd.show()"
   ]
  },
  {
   "cell_type": "code",
   "execution_count": null,
   "metadata": {},
   "outputs": [],
   "source": [
    "df_sample = pd.read_csv('https://raw.githubusercontent.com/plotly/datasets/master/laucnty16.csv')\n",
    "df_sample.head()"
   ]
  },
  {
   "cell_type": "code",
   "execution_count": null,
   "metadata": {},
   "outputs": [],
   "source": [
    "df_sample['County FIPS Code'] = df_sample['County FIPS Code'].apply(lambda x: str(x).zfill(3))\n",
    "fips_codes = df_sample[['County FIPS Code', 'County Name/State Abbreviation']].copy()\n",
    "fips_codes[['County/Parish', 'State']] = fips_codes['County Name/State Abbreviation'].str.split(', ', expand = True)\n",
    "fips_codes['County/Parish'] = fips_codes['County/Parish'].apply(lambda x: str(x).lower())\n",
    "# fips_codes.rename({})\n",
    "test_prov['County/Parish'] = test_prov['County/Parish'].apply(lambda x: str(x).lower())\n",
    "test_prov['Provider SSA County Code'] = test_prov['Provider SSA County Code'].astype('str')\n",
    "# test_prov.rename({})\n",
    "cnty_code_test = pd.merge(fips_codes, test_prov, how = 'left', on = ['State', 'County/Parish'])\n",
    "# cnty_code_test = cnty_code_test[cnty_code_test['City/Town'].notnull()]\n",
    "cnty_code_test.rename({'CMS Certification Number (CCN)':'provnum', 'County FIPS Code':'fips'}, axis = 1, inplace = True)\n",
    "cnty_codes = cnty_code_test[['provnum', 'fips']].copy()\n",
    "# cnty_codes.head(20)"
   ]
  },
  {
   "cell_type": "code",
   "execution_count": null,
   "metadata": {},
   "outputs": [],
   "source": [
    "prov_agg_fips = pd.merge(provider_agg, cnty_codes, how = 'left', on = 'provnum')\n",
    "prov_agg_fips.head()"
   ]
  },
  {
   "cell_type": "markdown",
   "metadata": {},
   "source": [
    "# Facilities with Average Hours Per Resident Below State Average\n",
    "\n",
    "Also have below average scores for: Staffing Rating, Overall Rating, and Average Hours per Resident"
   ]
  },
  {
   "cell_type": "code",
   "execution_count": null,
   "metadata": {},
   "outputs": [],
   "source": [
    "state_avg_sub = state_avgs[['State', 'staff_rating', 'overall_rating', 'hrs_per_resident']].copy()\n",
    "state_prov_agg = provider_agg.copy()\n",
    "state_prov_agg['fac_hrs_per_res'] = state_prov_agg['hrs_ttl'] / state_prov_agg['mdscensus_sum']\n",
    "state_prov_avgs = pd.merge(state_prov_agg, state_avg_sub, how = 'left', on = 'State')\n",
    "state_prov_avgs.head()"
   ]
  },
  {
   "cell_type": "code",
   "execution_count": null,
   "metadata": {},
   "outputs": [],
   "source": [
    "state_prov_avgs['staff_rate_diff'] = state_prov_avgs['Staffing Rating'] - state_prov_avgs['staff_rating']\n",
    "state_prov_avgs['overall_rate_diff'] = state_prov_avgs['Overall Rating'] - state_prov_avgs['overall_rating']\n",
    "state_prov_avgs['avg_hrs_diff'] = state_prov_avgs['fac_hrs_per_res'] - state_prov_avgs['hrs_per_resident']\n",
    "state_prov_avgs.head()"
   ]
  },
  {
   "cell_type": "code",
   "execution_count": null,
   "metadata": {},
   "outputs": [],
   "source": [
    "# Removing any facilities that have 0 Contractor hours\n",
    "# Removing any facilities that have above average scores for: Staffing Rating, Overall Rating, and Average Hours per Resident\n",
    "state_prov_avgs_sub = state_prov_avgs.loc[(state_prov_avgs['hrs_ttl_ctr'] > 0) &\n",
    "                                          (state_prov_avgs['staff_rate_diff'] < 0) &\n",
    "                                          (state_prov_avgs['overall_rate_diff'] < 0) &\n",
    "                                          (state_prov_avgs['avg_hrs_diff'] < 0)].copy()\n",
    "state_prov_avgs_sub.head()"
   ]
  },
  {
   "cell_type": "code",
   "execution_count": null,
   "metadata": {},
   "outputs": [],
   "source": [
    "state_prov_avgs_sub['cnty_cnt'] = state_prov_avgs_sub.groupby(['State', 'County/Parish'])['provnum'].transform('nunique')\n",
    "state_prov_avgs_sub['state_cnt'] = state_prov_avgs_sub.groupby(['State'])['provnum'].transform('nunique')\n",
    "state_prov_avgs_sub['cnty_rank'] = state_prov_avgs_sub.sort_values(['avg_hrs_diff', 'overall_rate_diff', 'staff_rate_diff']) \\\n",
    "                                                                   .groupby(['State', 'County/Parish']).cumcount() + 1\n",
    "state_prov_avgs_sub['state_rank'] = state_prov_avgs_sub.sort_values(['avg_hrs_diff', 'overall_rate_diff', 'staff_rate_diff']) \\\n",
    "                                                                    .groupby(['State']).cumcount() + 1\n",
    "state_prov_avgs_sub.head()"
   ]
  },
  {
   "cell_type": "code",
   "execution_count": null,
   "metadata": {},
   "outputs": [],
   "source": [
    "prov_names = provider_info[['CMS Certification Number (CCN)', 'Provider Name']].copy()\n",
    "prov_names.columns = ['provnum', 'prov_name']\n",
    "prov_names['prov_name'] = prov_names['prov_name'].str.title()\n",
    "prov_names.head()"
   ]
  },
  {
   "cell_type": "code",
   "execution_count": null,
   "metadata": {},
   "outputs": [],
   "source": [
    "state_prov_avgs_sub = pd.merge(state_prov_avgs_sub, prov_names, how = 'left', on = 'provnum')\n",
    "state_prov_avgs_sub.head()"
   ]
  },
  {
   "cell_type": "code",
   "execution_count": null,
   "metadata": {},
   "outputs": [],
   "source": [
    "states = state_prov_avgs_sub['State'].unique().tolist()\n",
    "state_text_df = pd.DataFrame()\n",
    "for state in states:\n",
    "    df = state_prov_avgs_sub[(state_prov_avgs_sub['State'] == state) &\n",
    "                             (state_prov_avgs_sub['state_rank'].isin([1,2,3,4,5]))].copy()\n",
    "    df['state_text'] = df[['State', 'overall_rating', 'staff_rating', 'hrs_per_resident']].apply(lambda x: \\\n",
    "        ('<b>' + x['State'] + '</b><br>' + 'Avg Hours per Resident({:.2f})'.format(x['hrs_per_resident']) + ' ' +\n",
    "        'Avg Overall Rating({:.2f})'.format(x['overall_rating']) + ' ' +\n",
    "        'Avg Staff Rating({:.2f})'.format(x['staff_rating'])), axis = 1)\n",
    "    df['prov_text'] = df[['prov_name', 'Overall Rating', 'Staffing Rating', 'fac_hrs_per_res']].apply(lambda x: \\\n",
    "        ('<b>' + x['prov_name'] + '</b><br>' + 'Avg Hours per Resident({:.2f})'.format(x['fac_hrs_per_res']) + ' ' +\n",
    "        'Avg Overall Rating({:.2f})'.format(x['Overall Rating']) + ' ' +\n",
    "        'Avg Staff Rating({:.2f})'.format(x['Staffing Rating'])), axis = 1)\n",
    "    state_text = df['state_text'].unique().tolist() + df['prov_text'].tolist()\n",
    "    temp_df = pd.DataFrame({'State': [state], 'state_text':['<br>'.join(state_text)]})\n",
    "    state_text_df = pd.concat([state_text_df, temp_df])\n",
    "state_text_df.head()"
   ]
  },
  {
   "cell_type": "code",
   "execution_count": null,
   "metadata": {},
   "outputs": [],
   "source": [
    "county_dict = {}\n",
    "county_text_df = pd.DataFrame()\n",
    "for state in states:\n",
    "    df = state_prov_avgs_sub[state_prov_avgs_sub['State'] == state].copy()\n",
    "    cnty_lst = df['County/Parish'].unique().tolist()\n",
    "    county_dict[state] = cnty_lst \n",
    "for key in county_dict.keys():\n",
    "    for val in county_dict.get(key): \n",
    "        # print(key, val)\n",
    "        df2 = state_prov_avgs_sub[(state_prov_avgs_sub['State'] == key) &\n",
    "                                 (state_prov_avgs_sub['County/Parish'] == val)].copy()\n",
    "        # print(len(df2))\n",
    "        df2['state_text'] = df2[['State', 'overall_rating', 'staff_rating', 'hrs_per_resident']].apply(lambda x: \\\n",
    "            ('<b>' + x['State'] + '</b><br>' + 'Avg Hours per Resident({:.2f})'.format(x['hrs_per_resident']) + ' ' +\n",
    "            'Avg Overall Rating({:.2f})'.format(x['overall_rating']) + ' ' +\n",
    "            'Avg Staff Rating({:.2f})'.format(x['staff_rating'])), axis = 1)\n",
    "        df2['prov_text'] = df2[['prov_name', 'Overall Rating', 'Staffing Rating', 'fac_hrs_per_res']].apply(lambda x: \\\n",
    "            ('<b>' + x['prov_name'] + '</b><br>' + 'Avg Hours per Resident({:.2f})'.format(x['fac_hrs_per_res']) + ' ' +\n",
    "            'Avg Overall Rating({:.2f})'.format(x['Overall Rating']) + ' ' +\n",
    "            'Avg Staff Rating({:.2f})'.format(x['Staffing Rating'])), axis = 1)\n",
    "        state_text = df2['state_text'].unique().tolist() + df2['prov_text'].tolist()\n",
    "        temp_df = pd.DataFrame({'State': [key], 'County/Parish': [val], 'cnty_text':['<br>'.join(state_text)]})\n",
    "        county_text_df = pd.concat([county_text_df, temp_df])\n",
    "county_text_df.head()"
   ]
  },
  {
   "cell_type": "code",
   "execution_count": null,
   "metadata": {},
   "outputs": [],
   "source": [
    "state_prov_avgs_text = pd.merge(state_prov_avgs_sub, state_text_df, how = 'left', on = 'State')\n",
    "state_prov_avgs_text = pd.merge(state_prov_avgs_text, county_text_df, how = 'left', on = ['State', 'County/Parish'])\n",
    "state_prov_avgs_text.head()"
   ]
  },
  {
   "cell_type": "code",
   "execution_count": null,
   "metadata": {},
   "outputs": [],
   "source": []
  }
 ],
 "metadata": {
  "kernelspec": {
   "display_name": "Python 3",
   "language": "python",
   "name": "python3"
  },
  "language_info": {
   "codemirror_mode": {
    "name": "ipython",
    "version": 3
   },
   "file_extension": ".py",
   "mimetype": "text/x-python",
   "name": "python",
   "nbconvert_exporter": "python",
   "pygments_lexer": "ipython3",
   "version": "3.12.7"
  }
 },
 "nbformat": 4,
 "nbformat_minor": 2
}
